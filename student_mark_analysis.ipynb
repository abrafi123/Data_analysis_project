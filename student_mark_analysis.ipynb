{
 "cells": [
  {
   "cell_type": "code",
   "execution_count": 5,
   "id": "9bb4a805-0be1-46a0-b7d0-de3370eceb5c",
   "metadata": {},
   "outputs": [
    {
     "name": "stdout",
     "output_type": "stream",
     "text": [
      "{'name': 'rafi', 'math': 86, 'eng': 78, 'science': 92}\n",
      "rafi\n",
      "86\n"
     ]
    }
   ],
   "source": [
    "#Putting single data of a student(Dictionary)\n",
    "students= {\n",
    "    \"name\":\"rafi\",\n",
    "    \"math\":86,\n",
    "    \"eng\":78,\n",
    "    \"science\":92\n",
    "}\n",
    "print(student)\n",
    "print(student[\"name\"])\n",
    "print(student[\"math\"])"
   ]
  },
  {
   "cell_type": "code",
   "execution_count": 47,
   "id": "76ed1381-80c0-4253-bea5-36f1b6a6e866",
   "metadata": {},
   "outputs": [
    {
     "name": "stdout",
     "output_type": "stream",
     "text": [
      "total_students: 3\n",
      "[{'𝒏𝒂𝒎𝒆': '𝑨𝒓𝒂𝒇𝒂𝒕', '𝒎𝒂𝒕𝒉': 85, '𝒆𝒏𝒈': 78, '𝒔𝒄𝒊𝒆𝒏𝒄𝒆': 92}, {'𝒏𝒂𝒎𝒆': '𝑵𝒖𝒔𝒓𝒂𝒕', '𝒎𝒂𝒕𝒉': 90, '𝒆𝒏𝒈': 88, '𝒔𝒄𝒊𝒆𝒏𝒄𝒆': 80}, {'𝒏𝒂𝒎𝒆': '𝑺𝒂𝒌𝒊𝒃', '𝒎𝒂𝒕𝒉': 70, '𝒆𝒏𝒈': 60, '𝒔𝒄𝒊𝒆𝒏𝒄𝒆': 75}]\n"
     ]
    }
   ],
   "source": [
    "#putting all students data together (List of Dictionary)\n",
    "s𝒕𝒖𝒅𝒆𝒏𝒕𝒔 = [\n",
    "    {\"𝒏𝒂𝒎𝒆\": \"𝑨𝒓𝒂𝒇𝒂𝒕\", \"𝒎𝒂𝒕𝒉\": 85, \"𝒆𝒏𝒈\": 78, \"𝒔𝒄𝒊𝒆𝒏𝒄𝒆\": 92},\n",
    "    {\"𝒏𝒂𝒎𝒆\": \"𝑵𝒖𝒔𝒓𝒂𝒕\", \"𝒎𝒂𝒕𝒉\": 90, \"𝒆𝒏𝒈\": 88, \"𝒔𝒄𝒊𝒆𝒏𝒄𝒆\": 80},\n",
    "    {\"𝒏𝒂𝒎𝒆\": \"𝑺𝒂𝒌𝒊𝒃\",  \"𝒎𝒂𝒕𝒉\": 70, \"𝒆𝒏𝒈\": 60, \"𝒔𝒄𝒊𝒆𝒏𝒄𝒆\": 75}\n",
    "]\n",
    "𝒑𝒓𝒊𝒏𝒕(\"total_students:\", 𝒍𝒆𝒏(𝒔𝒕𝒖𝒅𝒆𝒏𝒕𝒔))\n",
    "𝒑𝒓𝒊𝒏𝒕(𝒔𝒕𝒖𝒅𝒆𝒏𝒕𝒔)"
   ]
  },
  {
   "cell_type": "code",
   "execution_count": 81,
   "id": "a57b28e1-2515-4611-a326-a445a47ec9e4",
   "metadata": {},
   "outputs": [
    {
     "name": "stdout",
     "output_type": "stream",
     "text": [
      "𝑨𝒓𝒂𝒇𝒂𝒕 → 𝒕𝒐𝒕𝒂𝒍: 255\n",
      "𝑵𝒖𝒔𝒓𝒂𝒕 → 𝒕𝒐𝒕𝒂𝒍: 258\n",
      "𝑺𝒂𝒌𝒊𝒃 → 𝒕𝒐𝒕𝒂𝒍: 205\n"
     ]
    }
   ],
   "source": [
    "#lets figure out total marks of each students\n",
    "for 𝒔 in 𝒔𝒕𝒖𝒅𝒆𝒏𝒕𝒔:\n",
    "    𝒔[\"𝒕𝒐𝒕𝒂𝒍\"] = 𝒔[\"𝒎𝒂𝒕𝒉\"] + 𝒔[\"𝒆𝒏𝒈\"] + 𝒔[\"𝒔𝒄𝒊𝒆𝒏𝒄𝒆\"]\n",
    "\n",
    "\n",
    "for 𝒔 in 𝒔𝒕𝒖𝒅𝒆𝒏𝒕𝒔:\n",
    "    𝒑𝒓𝒊𝒏𝒕(𝒔[\"𝒏𝒂𝒎𝒆\"], \"→ 𝒕𝒐𝒕𝒂𝒍:\", 𝒔[\"𝒕𝒐𝒕𝒂𝒍\"])"
   ]
  },
  {
   "cell_type": "code",
   "execution_count": 86,
   "id": "e5cae084-e37b-4b2c-8ce1-e20ba14c9611",
   "metadata": {},
   "outputs": [
    {
     "name": "stdout",
     "output_type": "stream",
     "text": [
      "𝑻𝒐𝒑𝒑𝒆𝒓: 𝑵𝒖𝒔𝒓𝒂𝒕 𝒘𝒊𝒕𝒉 258 𝒎𝒂𝒓𝒌𝒔\n"
     ]
    }
   ],
   "source": [
    "#now lets find out the topper(Height total)\n",
    "h𝒊𝒈𝒉𝒆𝒔𝒕 = -1     \n",
    "𝒕𝒐𝒑𝒑𝒆𝒓_𝒏𝒂𝒎𝒆 = \"\" \n",
    "\n",
    "for 𝒔 in 𝒔𝒕𝒖𝒅𝒆𝒏𝒕𝒔:\n",
    "    if 𝒔[\"𝒕𝒐𝒕𝒂𝒍\"] > 𝒉𝒊𝒈𝒉𝒆𝒔𝒕:\n",
    "        𝒉𝒊𝒈𝒉𝒆𝒔𝒕 = 𝒔[\"𝒕𝒐𝒕𝒂𝒍\"]\n",
    "        𝒕𝒐𝒑𝒑𝒆𝒓_𝒏𝒂𝒎𝒆 = 𝒔[\"𝒏𝒂𝒎𝒆\"]\n",
    "\n",
    "𝒑𝒓𝒊𝒏𝒕(\"𝑻𝒐𝒑𝒑𝒆𝒓:\", 𝒕𝒐𝒑𝒑𝒆𝒓_𝒏𝒂𝒎𝒆, \"𝒘𝒊𝒕𝒉\", 𝒉𝒊𝒈𝒉𝒆𝒔𝒕, \"𝒎𝒂𝒓𝒌𝒔\")"
   ]
  },
  {
   "cell_type": "code",
   "execution_count": 88,
   "id": "3ac6fc70-358e-4bf1-be04-6d9a3f3cae52",
   "metadata": {},
   "outputs": [
    {
     "name": "stdout",
     "output_type": "stream",
     "text": [
      "----- 𝑹𝒆𝒑𝒐𝒓𝒕 𝑪𝒂𝒓𝒅 -----\n",
      "𝑵𝒂𝒎𝒆   : 𝑨𝒓𝒂𝒇𝒂𝒕\n",
      "𝑴𝒂𝒕𝒉   : 85\n",
      "𝑬𝒏𝒈𝒍𝒊𝒔𝒉: 78\n",
      "𝑺𝒄𝒊𝒆𝒏𝒄𝒆: 92\n",
      "𝑻𝒐𝒕𝒂𝒍  : 255\n",
      "-----------------------\n",
      "----- 𝑹𝒆𝒑𝒐𝒓𝒕 𝑪𝒂𝒓𝒅 -----\n",
      "𝑵𝒂𝒎𝒆   : 𝑵𝒖𝒔𝒓𝒂𝒕\n",
      "𝑴𝒂𝒕𝒉   : 90\n",
      "𝑬𝒏𝒈𝒍𝒊𝒔𝒉: 88\n",
      "𝑺𝒄𝒊𝒆𝒏𝒄𝒆: 80\n",
      "𝑻𝒐𝒕𝒂𝒍  : 258\n",
      "-----------------------\n",
      "----- 𝑹𝒆𝒑𝒐𝒓𝒕 𝑪𝒂𝒓𝒅 -----\n",
      "𝑵𝒂𝒎𝒆   : 𝑺𝒂𝒌𝒊𝒃\n",
      "𝑴𝒂𝒕𝒉   : 70\n",
      "𝑬𝒏𝒈𝒍𝒊𝒔𝒉: 60\n",
      "𝑺𝒄𝒊𝒆𝒏𝒄𝒆: 75\n",
      "𝑻𝒐𝒕𝒂𝒍  : 205\n",
      "-----------------------\n"
     ]
    }
   ],
   "source": [
    "#lets print out the real report card \n",
    "for 𝒔 in 𝒔𝒕𝒖𝒅𝒆𝒏𝒕𝒔:\n",
    "    𝒑𝒓𝒊𝒏𝒕(\"----- 𝑹𝒆𝒑𝒐𝒓𝒕 𝑪𝒂𝒓𝒅 -----\")\n",
    "    𝒑𝒓𝒊𝒏𝒕(\"𝑵𝒂𝒎𝒆   :\", 𝒔[\"𝒏𝒂𝒎𝒆\"])\n",
    "    𝒑𝒓𝒊𝒏𝒕(\"𝑴𝒂𝒕𝒉   :\", 𝒔[\"𝒎𝒂𝒕𝒉\"])\n",
    "    𝒑𝒓𝒊𝒏𝒕(\"𝑬𝒏𝒈𝒍𝒊𝒔𝒉:\", 𝒔[\"𝒆𝒏𝒈\"])\n",
    "    𝒑𝒓𝒊𝒏𝒕(\"𝑺𝒄𝒊𝒆𝒏𝒄𝒆:\", 𝒔[\"𝒔𝒄𝒊𝒆𝒏𝒄𝒆\"])\n",
    "    𝒑𝒓𝒊𝒏𝒕(\"𝑻𝒐𝒕𝒂𝒍  :\", 𝒔[\"𝒕𝒐𝒕𝒂𝒍\"])\n",
    "    𝒑𝒓𝒊𝒏𝒕(\"-----------------------\")"
   ]
  },
  {
   "cell_type": "code",
   "execution_count": 90,
   "id": "93a3b069-1e30-4815-a986-d03db2e15c26",
   "metadata": {},
   "outputs": [
    {
     "data": {
      "image/png": "[encoded data removed]",
      "text/plain": [
       "<Figure size 640x480 with 1 Axes>"
      ]
     },
     "metadata": {},
     "output_type": "display_data"
    }
   ],
   "source": [
    "#grapically representation total marks using matplotlib\n",
    "import matplotlib.pyplot as plt\n",
    "\n",
    "students = [\n",
    "    {\"name\": \"Arafat\", \"math\": 85, \"eng\": 78, \"science\": 92, \"total\": 255},\n",
    "    {\"name\": \"Nusrat\", \"math\": 90, \"eng\": 88, \"science\": 80, \"total\": 258},\n",
    "    {\"name\": \"Sakib\",  \"math\": 70, \"eng\": 60, \"science\": 75, \"total\": 205}\n",
    "]\n",
    "\n",
    "names = [s[\"name\"] for s in students]\n",
    "totals = [s[\"total\"] for s in students]\n",
    "\n",
    "\n",
    "plt.bar(names, totals)\n",
    "\n",
    "\n",
    "plt.title(\"Students Total Marks\")\n",
    "plt.xlabel(\"Students\")\n",
    "plt.ylabel(\"Total Marks\")\n",
    "\n",
    "\n",
    "plt.show()"
   ]
  },
  {
   "cell_type": "code",
   "execution_count": null,
   "id": "0fb29d5c-4665-4918-b9f5-7b400aa62c12",
   "metadata": {},
   "outputs": [],
   "source": []
  }
 ],
 "metadata": {
  "kernelspec": {
   "display_name": "Python [conda env:base] *",
   "language": "python",
   "name": "conda-base-py"
  },
  "language_info": {
   "codemirror_mode": {
    "name": "ipython",
    "version": 3
   },
   "file_extension": ".py",
   "mimetype": "text/x-python",
   "name": "python",
   "nbconvert_exporter": "python",
   "pygments_lexer": "ipython3",
   "version": "3.12.7"
  }
 },
 "nbformat": 4,
 "nbformat_minor": 5
}
