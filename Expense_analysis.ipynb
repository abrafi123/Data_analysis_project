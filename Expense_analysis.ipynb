{
 "cells": [
  {
   "cell_type": "code",
   "execution_count": 3,
   "id": "3ae02af4-c0b2-42f3-ae4e-f69b392b1c58",
   "metadata": {},
   "outputs": [
    {
     "data": {
      "text/plain": [
       "[{'𝒄𝒂𝒕𝒆𝒈𝒐𝒓𝒚': '𝑭𝒐𝒐𝒅', '𝒂𝒎𝒐𝒖𝒏𝒕': 2500},\n",
       " {'𝒄𝒂𝒕𝒆𝒈𝒐𝒓𝒚': '𝑻𝒓𝒂𝒏𝒔𝒑𝒐𝒓𝒕', '𝒂𝒎𝒐𝒖𝒏𝒕': 1200},\n",
       " {'𝒄𝒂𝒕𝒆𝒈𝒐𝒓𝒚': '𝑺𝒉𝒐𝒑𝒑𝒊𝒏𝒈', '𝒂𝒎𝒐𝒖𝒏𝒕': 3000},\n",
       " {'𝒄𝒂𝒕𝒆𝒈𝒐𝒓𝒚': '𝑭𝒐𝒐𝒅', '𝒂𝒎𝒐𝒖𝒏𝒕': 1500},\n",
       " {'𝒄𝒂𝒕𝒆𝒈𝒐𝒓𝒚': '𝑹𝒆𝒏𝒕', '𝒂𝒎𝒐𝒖𝒏𝒕': 8000}]"
      ]
     },
     "execution_count": 3,
     "metadata": {},
     "output_type": "execute_result"
    }
   ],
   "source": [
    "#Store data (List+Dictionary)\n",
    "𝒆𝒙𝒑𝒆𝒏𝒔𝒆𝒔 = [\n",
    "    {\"𝒄𝒂𝒕𝒆𝒈𝒐𝒓𝒚\": \"𝑭𝒐𝒐𝒅\", \"𝒂𝒎𝒐𝒖𝒏𝒕\": 2500},\n",
    "    {\"𝒄𝒂𝒕𝒆𝒈𝒐𝒓𝒚\": \"𝑻𝒓𝒂𝒏𝒔𝒑𝒐𝒓𝒕\", \"𝒂𝒎𝒐𝒖𝒏𝒕\": 1200},\n",
    "    {\"𝒄𝒂𝒕𝒆𝒈𝒐𝒓𝒚\": \"𝑺𝒉𝒐𝒑𝒑𝒊𝒏𝒈\", \"𝒂𝒎𝒐𝒖𝒏𝒕\": 3000},\n",
    "    {\"𝒄𝒂𝒕𝒆𝒈𝒐𝒓𝒚\": \"𝑭𝒐𝒐𝒅\", \"𝒂𝒎𝒐𝒖𝒏𝒕\": 1500},\n",
    "    {\"𝒄𝒂𝒕𝒆𝒈𝒐𝒓𝒚\": \"𝑹𝒆𝒏𝒕\", \"𝒂𝒎𝒐𝒖𝒏𝒕\": 8000}\n",
    "]\n",
    "expenses"
   ]
  },
  {
   "cell_type": "code",
   "execution_count": 5,
   "id": "ce8cb644-4221-4f43-b1b2-9d3d26b84899",
   "metadata": {},
   "outputs": [
    {
     "name": "stdout",
     "output_type": "stream",
     "text": [
      "Total Expense : 16200\n"
     ]
    }
   ],
   "source": [
    "#Total expense summation\n",
    "expenses\n",
    "𝒕𝒐𝒕𝒂𝒍_𝒆𝒙𝒑𝒆𝒏𝒔𝒆 = 0\n",
    "for 𝒊𝒕𝒆𝒎 in 𝒆𝒙𝒑𝒆𝒏𝒔𝒆𝒔:\n",
    "    𝒕𝒐𝒕𝒂𝒍_𝒆𝒙𝒑𝒆𝒏𝒔𝒆 += 𝒊𝒕𝒆𝒎[\"𝒂𝒎𝒐𝒖𝒏𝒕\"]\n",
    "\n",
    "𝒑𝒓𝒊𝒏𝒕(\"Total Expense :\", 𝒕𝒐𝒕𝒂𝒍_𝒆𝒙𝒑𝒆𝒏𝒔𝒆)"
   ]
  },
  {
   "cell_type": "code",
   "execution_count": 7,
   "id": "aa78b746-3452-49f1-95fb-960cc0a9458f",
   "metadata": {},
   "outputs": [
    {
     "name": "stdout",
     "output_type": "stream",
     "text": [
      "𝑪𝒂𝒕𝒆𝒈𝒐𝒓𝒚 𝒘𝒊𝒔𝒆 Expense: {'𝑭𝒐𝒐𝒅': 4000, '𝑻𝒓𝒂𝒏𝒔𝒑𝒐𝒓𝒕': 1200, '𝑺𝒉𝒐𝒑𝒑𝒊𝒏𝒈': 3000, '𝑹𝒆𝒏𝒕': 8000}\n"
     ]
    }
   ],
   "source": [
    "#Catagory wise expense\n",
    "c𝒂𝒕𝒆𝒈𝒐𝒓𝒚_𝒘𝒊𝒔𝒆 = {}\n",
    "for 𝒊𝒕𝒆𝒎 in 𝒆𝒙𝒑𝒆𝒏𝒔𝒆𝒔:\n",
    "    𝒄𝒂𝒕𝒆𝒈𝒐𝒓𝒚 = 𝒊𝒕𝒆𝒎[\"𝒄𝒂𝒕𝒆𝒈𝒐𝒓𝒚\"]\n",
    "    𝒂𝒎𝒐𝒖𝒏𝒕 = 𝒊𝒕𝒆𝒎[\"𝒂𝒎𝒐𝒖𝒏𝒕\"]\n",
    "    \n",
    "    if 𝒄𝒂𝒕𝒆𝒈𝒐𝒓𝒚 in 𝒄𝒂𝒕𝒆𝒈𝒐𝒓𝒚_𝒘𝒊𝒔𝒆:\n",
    "        𝒄𝒂𝒕𝒆𝒈𝒐𝒓𝒚_𝒘𝒊𝒔𝒆[𝒄𝒂𝒕𝒆𝒈𝒐𝒓𝒚] += 𝒂𝒎𝒐𝒖𝒏𝒕\n",
    "    else:\n",
    "        𝒄𝒂𝒕𝒆𝒈𝒐𝒓𝒚_𝒘𝒊𝒔𝒆[𝒄𝒂𝒕𝒆𝒈𝒐𝒓𝒚] = 𝒂𝒎𝒐𝒖𝒏𝒕\n",
    "\n",
    "𝒑𝒓𝒊𝒏𝒕(\"𝑪𝒂𝒕𝒆𝒈𝒐𝒓𝒚 𝒘𝒊𝒔𝒆 Expense:\", 𝒄𝒂𝒕𝒆𝒈𝒐𝒓𝒚_𝒘𝒊𝒔𝒆)"
   ]
  },
  {
   "cell_type": "code",
   "execution_count": 9,
   "id": "fadcd8b0-b02c-4595-a4d1-d93b5074d459",
   "metadata": {},
   "outputs": [
    {
     "name": "stdout",
     "output_type": "stream",
     "text": [
      "You are in lost: 9200 TK\n"
     ]
    }
   ],
   "source": [
    "#Lets compare with income\n",
    "i𝒏𝒄𝒐𝒎𝒆 = 7000\n",
    "𝒔𝒂𝒗𝒊𝒏𝒈𝒔 = 𝒊𝒏𝒄𝒐𝒎𝒆 - 𝒕𝒐𝒕𝒂𝒍_𝒆𝒙𝒑𝒆𝒏𝒔𝒆\n",
    "\n",
    "if 𝒔𝒂𝒗𝒊𝒏𝒈𝒔 > 0:\n",
    "    𝒑𝒓𝒊𝒏𝒕(\"You can save money:\", 𝒔𝒂𝒗𝒊𝒏𝒈𝒔, \"TK\")\n",
    "elif 𝒔𝒂𝒗𝒊𝒏𝒈𝒔 == 0:\n",
    "    𝒑𝒓𝒊𝒏𝒕(\"Equal,No save,No lost।\")\n",
    "else:\n",
    "    𝒑𝒓𝒊𝒏𝒕(\"You are in lost:\", 𝒂𝒃𝒔(𝒔𝒂𝒗𝒊𝒏𝒈𝒔), \"TK\")"
   ]
  },
  {
   "cell_type": "code",
   "execution_count": 11,
   "id": "999c9a77-4d4d-4bce-b6d0-bb9b43ac7144",
   "metadata": {},
   "outputs": [
    {
     "name": "stdout",
     "output_type": "stream",
     "text": [
      "Costs the most: 𝑹𝒆𝒏𝒕 - 8000 TK\n"
     ]
    }
   ],
   "source": [
    "#Highest expense catagory in your dictionary\n",
    "highest_category = None\n",
    "highest_amount = 0\n",
    "\n",
    "for category, amount in category_wise.items():\n",
    "    if amount > highest_amount:\n",
    "        highest_amount = amount\n",
    "        highest_category = category\n",
    "\n",
    "print(\"Costs the most:\", highest_category, \"-\", highest_amount, \"TK\")"
   ]
  },
  {
   "cell_type": "code",
   "execution_count": 13,
   "id": "cdb7f144-c198-478d-bb15-4d116c681dca",
   "metadata": {},
   "outputs": [
    {
     "name": "stdout",
     "output_type": "stream",
     "text": [
      "Average Expense per entry: 3240.0 TK\n"
     ]
    }
   ],
   "source": [
    "#Average expense per category\n",
    "avg_expense = total_expense / len(expenses)\n",
    "print(\"Average Expense per entry:\", avg_expense, \"TK\")"
   ]
  },
  {
   "cell_type": "code",
   "execution_count": 15,
   "id": "f3547485-34d9-4110-a945-a154cddb87d9",
   "metadata": {},
   "outputs": [
    {
     "name": "stdout",
     "output_type": "stream",
     "text": [
      "𝑭𝒐𝒐𝒅: 24.69%\n",
      "𝑻𝒓𝒂𝒏𝒔𝒑𝒐𝒓𝒕: 7.41%\n",
      "𝑺𝒉𝒐𝒑𝒑𝒊𝒏𝒈: 18.52%\n",
      "𝑹𝒆𝒏𝒕: 49.38%\n"
     ]
    }
   ],
   "source": [
    "#Percentage per category\n",
    "for category, amount in category_wise.items():\n",
    "    percent = (amount / total_expense) * 100\n",
    "    print(f\"{category}: {percent:.2f}%\")"
   ]
  },
  {
   "cell_type": "code",
   "execution_count": 17,
   "id": "4bd5ac71-4f71-4281-9f42-90a776006e0c",
   "metadata": {},
   "outputs": [
    {
     "name": "stdout",
     "output_type": "stream",
     "text": [
      "+-----------+-------------+\n",
      "|  Category | Amount (TK) |\n",
      "+-----------+-------------+\n",
      "|    𝑭𝒐𝒐𝒅   |     4000    |\n",
      "| 𝑻𝒓𝒂𝒏𝒔𝒑𝒐𝒓𝒕 |     1200    |\n",
      "|  𝑺𝒉𝒐𝒑𝒑𝒊𝒏𝒈 |     3000    |\n",
      "|    𝑹𝒆𝒏𝒕   |     8000    |\n",
      "+-----------+-------------+\n"
     ]
    }
   ],
   "source": [
    "#Tabular format (prettytable pandas)\n",
    "from prettytable import PrettyTable\n",
    "\n",
    "table = PrettyTable()\n",
    "table.field_names = [\"Category\", \"Amount (TK)\"]\n",
    "\n",
    "for category, amount in category_wise.items():\n",
    "    table.add_row([category, amount])\n",
    "\n",
    "print(table)"
   ]
  },
  {
   "cell_type": "code",
   "execution_count": 19,
   "id": "c40060ab-faae-48a9-91f4-71ac890d05f4",
   "metadata": {},
   "outputs": [
    {
     "name": "stderr",
     "output_type": "stream",
     "text": [
      "C:\\Users\\abuba\\anaconda3\\Lib\\site-packages\\IPython\\core\\pylabtools.py:170: UserWarning: Glyph 119917 (\\N{MATHEMATICAL BOLD ITALIC CAPITAL F}) missing from font(s) DejaVu Sans.\n",
      "  fig.canvas.print_figure(bytes_io, **kw)\n",
      "C:\\Users\\abuba\\anaconda3\\Lib\\site-packages\\IPython\\core\\pylabtools.py:170: UserWarning: Glyph 119952 (\\N{MATHEMATICAL BOLD ITALIC SMALL O}) missing from font(s) DejaVu Sans.\n",
      "  fig.canvas.print_figure(bytes_io, **kw)\n",
      "C:\\Users\\abuba\\anaconda3\\Lib\\site-packages\\IPython\\core\\pylabtools.py:170: UserWarning: Glyph 119941 (\\N{MATHEMATICAL BOLD ITALIC SMALL D}) missing from font(s) DejaVu Sans.\n",
      "  fig.canvas.print_figure(bytes_io, **kw)\n",
      "C:\\Users\\abuba\\anaconda3\\Lib\\site-packages\\IPython\\core\\pylabtools.py:170: UserWarning: Glyph 119931 (\\N{MATHEMATICAL BOLD ITALIC CAPITAL T}) missing from font(s) DejaVu Sans.\n",
      "  fig.canvas.print_figure(bytes_io, **kw)\n",
      "C:\\Users\\abuba\\anaconda3\\Lib\\site-packages\\IPython\\core\\pylabtools.py:170: UserWarning: Glyph 119955 (\\N{MATHEMATICAL BOLD ITALIC SMALL R}) missing from font(s) DejaVu Sans.\n",
      "  fig.canvas.print_figure(bytes_io, **kw)\n",
      "C:\\Users\\abuba\\anaconda3\\Lib\\site-packages\\IPython\\core\\pylabtools.py:170: UserWarning: Glyph 119938 (\\N{MATHEMATICAL BOLD ITALIC SMALL A}) missing from font(s) DejaVu Sans.\n",
      "  fig.canvas.print_figure(bytes_io, **kw)\n",
      "C:\\Users\\abuba\\anaconda3\\Lib\\site-packages\\IPython\\core\\pylabtools.py:170: UserWarning: Glyph 119951 (\\N{MATHEMATICAL BOLD ITALIC SMALL N}) missing from font(s) DejaVu Sans.\n",
      "  fig.canvas.print_figure(bytes_io, **kw)\n",
      "C:\\Users\\abuba\\anaconda3\\Lib\\site-packages\\IPython\\core\\pylabtools.py:170: UserWarning: Glyph 119956 (\\N{MATHEMATICAL BOLD ITALIC SMALL S}) missing from font(s) DejaVu Sans.\n",
      "  fig.canvas.print_figure(bytes_io, **kw)\n",
      "C:\\Users\\abuba\\anaconda3\\Lib\\site-packages\\IPython\\core\\pylabtools.py:170: UserWarning: Glyph 119953 (\\N{MATHEMATICAL BOLD ITALIC SMALL P}) missing from font(s) DejaVu Sans.\n",
      "  fig.canvas.print_figure(bytes_io, **kw)\n",
      "C:\\Users\\abuba\\anaconda3\\Lib\\site-packages\\IPython\\core\\pylabtools.py:170: UserWarning: Glyph 119957 (\\N{MATHEMATICAL BOLD ITALIC SMALL T}) missing from font(s) DejaVu Sans.\n",
      "  fig.canvas.print_figure(bytes_io, **kw)\n",
      "C:\\Users\\abuba\\anaconda3\\Lib\\site-packages\\IPython\\core\\pylabtools.py:170: UserWarning: Glyph 119930 (\\N{MATHEMATICAL BOLD ITALIC CAPITAL S}) missing from font(s) DejaVu Sans.\n",
      "  fig.canvas.print_figure(bytes_io, **kw)\n",
      "C:\\Users\\abuba\\anaconda3\\Lib\\site-packages\\IPython\\core\\pylabtools.py:170: UserWarning: Glyph 119945 (\\N{MATHEMATICAL BOLD ITALIC SMALL H}) missing from font(s) DejaVu Sans.\n",
      "  fig.canvas.print_figure(bytes_io, **kw)\n",
      "C:\\Users\\abuba\\anaconda3\\Lib\\site-packages\\IPython\\core\\pylabtools.py:170: UserWarning: Glyph 119946 (\\N{MATHEMATICAL BOLD ITALIC SMALL I}) missing from font(s) DejaVu Sans.\n",
      "  fig.canvas.print_figure(bytes_io, **kw)\n",
      "C:\\Users\\abuba\\anaconda3\\Lib\\site-packages\\IPython\\core\\pylabtools.py:170: UserWarning: Glyph 119944 (\\N{MATHEMATICAL BOLD ITALIC SMALL G}) missing from font(s) DejaVu Sans.\n",
      "  fig.canvas.print_figure(bytes_io, **kw)\n",
      "C:\\Users\\abuba\\anaconda3\\Lib\\site-packages\\IPython\\core\\pylabtools.py:170: UserWarning: Glyph 119929 (\\N{MATHEMATICAL BOLD ITALIC CAPITAL R}) missing from font(s) DejaVu Sans.\n",
      "  fig.canvas.print_figure(bytes_io, **kw)\n",
      "C:\\Users\\abuba\\anaconda3\\Lib\\site-packages\\IPython\\core\\pylabtools.py:170: UserWarning: Glyph 119942 (\\N{MATHEMATICAL BOLD ITALIC SMALL E}) missing from font(s) DejaVu Sans.\n",
      "  fig.canvas.print_figure(bytes_io, **kw)\n"
     ]
    },
    {
     "data": {
      "image/png": "[encoded data removed]",
      "text/plain": [
       "<Figure size 640x480 with 1 Axes>"
      ]
     },
     "metadata": {},
     "output_type": "display_data"
    }
   ],
   "source": [
    "#Visualization(Matplotlib/seaborn)\n",
    "import matplotlib.pyplot as plt\n",
    "\n",
    "plt.bar(category_wise.keys(), category_wise.values())\n",
    "plt.title(\"Category-wise Expense\")\n",
    "plt.xlabel(\"Category\")\n",
    "plt.ylabel(\"Amount (TK)\")\n",
    "plt.show()"
   ]
  },
  {
   "cell_type": "code",
   "execution_count": null,
   "id": "16160e66-efa7-4a93-9e96-590d5b2c3b3e",
   "metadata": {},
   "outputs": [],
   "source": []
  }
 ],
 "metadata": {
  "kernelspec": {
   "display_name": "Python [conda env:base] *",
   "language": "python",
   "name": "conda-base-py"
  },
  "language_info": {
   "codemirror_mode": {
    "name": "ipython",
    "version": 3
   },
   "file_extension": ".py",
   "mimetype": "text/x-python",
   "name": "python",
   "nbconvert_exporter": "python",
   "pygments_lexer": "ipython3",
   "version": "3.12.7"
  }
 },
 "nbformat": 4,
 "nbformat_minor": 5
}
